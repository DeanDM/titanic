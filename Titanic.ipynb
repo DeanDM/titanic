{
 "cells": [
  {
   "cell_type": "markdown",
   "metadata": {},
   "source": [
    "You succesfully installed it! Congrats. Now lets quickly do some python. Keep pressing SHIFT + Enter to execute the current hightlighted block and go to the next one. Do it until you execute the print statement with your name."
   ]
  },
  {
   "cell_type": "code",
   "execution_count": null,
   "metadata": {},
   "outputs": [],
   "source": [
    "x = 'change_this_to_your_name'"
   ]
  },
  {
   "cell_type": "code",
   "execution_count": null,
   "metadata": {},
   "outputs": [],
   "source": [
    "print('Hello ' + x)"
   ]
  },
  {
   "cell_type": "markdown",
   "metadata": {},
   "source": [
    "Well done! This gives you a feel of how a notebook works. Now onto the fun stuff!\n",
    "\n",
    "![alt text](https://upload.wikimedia.org/wikipedia/commons/f/fd/RMS_Titanic_3.jpg \"Logo Title Text 1\")\n",
    "\n",
    "# Introduction to ML\n",
    "The titanic happened. Let's use the data that we get from this event and see if we would have survived if we'd have been on the titanic! How exciting. First let us import some packages to make this easier."
   ]
  },
  {
   "cell_type": "code",
   "execution_count": null,
   "metadata": {},
   "outputs": [],
   "source": [
    "import numpy as np # linear algebra\n",
    "import pandas as pd # data processing, CSV file I/O (e.g. pd.read_csv)\n",
    "import matplotlib.pyplot as plt # data visualization\n",
    "import seaborn as sns\n",
    "from sklearn.linear_model import LogisticRegression\n",
    "%matplotlib inline\n",
    "\n",
    "train = pd.read_csv(\"train.csv\") \n",
    "test = pd.read_csv(\"test.csv\")\n",
    "print('train dataset: %s, test dataset %s' %(str(train.shape), str(test.shape)) )\n",
    "\n",
    "#train.head()\n",
    "train.sample(10)"
   ]
  },
  {
   "cell_type": "markdown",
   "metadata": {},
   "source": [
    "You can see that we've loaded all the files and how they look. Notice how some age's say NaN! What does that mean? How will we handle this you think? This is the first problem of machine learning! The data. So clearly we need to do is clean up this dataset before we do anything cool with it. But before that let's look at some graphs. Let's see what the average survival percentage is per Sex."
   ]
  },
  {
   "cell_type": "code",
   "execution_count": null,
   "metadata": {},
   "outputs": [],
   "source": [
    "print(train[[\"Sex\", \"Survived\"]].groupby(['Sex'], as_index=False).mean().sort_values(by='Survived', ascending=False))"
   ]
  },
  {
   "cell_type": "markdown",
   "metadata": {},
   "source": [
    "Yikes. Looks like if you were a male you were pretty unlucky! Let's put it into a graph."
   ]
  },
  {
   "cell_type": "code",
   "execution_count": null,
   "metadata": {},
   "outputs": [],
   "source": [
    "total = train['Sex'].value_counts()\n",
    "survived_sex = train[train['Survived']==1]['Sex'].value_counts()\n",
    "died_sex = train[train['Survived']==0]['Sex'].value_counts()\n",
    "df = pd.DataFrame([total,survived_sex,died_sex])\n",
    "df.index = ['Total','Survived','Died']\n",
    "print(df)\n",
    "df.plot(kind='bar')"
   ]
  },
  {
   "cell_type": "markdown",
   "metadata": {},
   "source": [
    "Having 1 sibling would give you the best chances at surviving. Why is that? Why is 0 so low?"
   ]
  },
  {
   "cell_type": "code",
   "execution_count": null,
   "metadata": {},
   "outputs": [],
   "source": [
    "print(train[[\"Sibsp\", \"Survived\"]].groupby(['Sibsp'], as_index=False).mean().sort_values(by='Survived', ascending=False))"
   ]
  },
  {
   "cell_type": "markdown",
   "metadata": {},
   "source": [
    "### Cleanup\n",
    "\n",
    "Let's clean up some of this data! This looks complicated but we're saying \"for every NaN (Not a Number) give me a random age between the mean - the standard deviation and the mean + the sandard deviation."
   ]
  },
  {
   "cell_type": "code",
   "execution_count": null,
   "metadata": {},
   "outputs": [],
   "source": [
    "print(\"Lower bound is {}.\".format(train[\"Age\"].mean() - train[\"Age\"].std()))\n",
    "print(\"Upper bound is {}.\".format(train[\"Age\"].mean() + train[\"Age\"].std()))\n",
    "\n",
    "random = np.random.randint(train[\"Age\"].mean() - train[\"Age\"].std(),\n",
    "                                          train[\"Age\"].mean() + train[\"Age\"].std())\n",
    "\n",
    "print(\"A random age example is {}.\".format(random))"
   ]
  },
  {
   "cell_type": "code",
   "execution_count": null,
   "metadata": {},
   "outputs": [],
   "source": [
    "train_random_ages = np.random.randint(train[\"Age\"].mean() - train[\"Age\"].std(),\n",
    "                                          train[\"Age\"].mean() + train[\"Age\"].std(),\n",
    "                                          size = train[\"Age\"].isnull().sum())\n",
    "\n",
    "test_random_ages = np.random.randint(test[\"Age\"].mean() - test[\"Age\"].std(),\n",
    "                                          test[\"Age\"].mean() + test[\"Age\"].std(),\n",
    "                                          size = test[\"Age\"].isnull().sum())\n",
    "\n",
    "#We could also do train['Age'].fillna(train['Age'].median(),inplace=True). Would that be better or worse?"
   ]
  },
  {
   "cell_type": "code",
   "execution_count": null,
   "metadata": {},
   "outputs": [],
   "source": [
    "pd.options.mode.chained_assignment = None\n",
    "\n",
    "train[\"Age\"][np.isnan(train[\"Age\"])] = train_random_ages\n",
    "test[\"Age\"][np.isnan(test[\"Age\"])] = test_random_ages\n",
    "train['Age'] = train['Age'].astype(int)\n",
    "test['Age']    = test['Age'].astype(int)"
   ]
  },
  {
   "cell_type": "markdown",
   "metadata": {},
   "source": [
    "How about age?"
   ]
  },
  {
   "cell_type": "code",
   "execution_count": null,
   "metadata": {},
   "outputs": [],
   "source": [
    "figure = plt.figure(figsize=(15,8))\n",
    "plt.hist([train[train['Survived']==1]['Age'],train[train['Survived']==0]['Age']], color = ['g','r'],\n",
    "         bins = 10,label = ['Survived','Dead'])\n",
    "plt.xlabel('Age')\n",
    "plt.ylabel('Number of passengers')\n",
    "plt.legend()"
   ]
  },
  {
   "cell_type": "markdown",
   "metadata": {},
   "source": [
    "Here's a scatter plot that shows the relations between Age and Fare."
   ]
  },
  {
   "cell_type": "code",
   "execution_count": null,
   "metadata": {},
   "outputs": [],
   "source": [
    "train.plot.scatter('Age','Fare',c='Survived',colormap='jet',alpha=0.8,figsize=(15,8))"
   ]
  },
  {
   "cell_type": "markdown",
   "metadata": {},
   "source": [
    "### Let's get ready!\n",
    "\n",
    "Sweet! We've now got rid of all the ages and we'll now delete the things we won't need."
   ]
  },
  {
   "cell_type": "code",
   "execution_count": null,
   "metadata": {},
   "outputs": [],
   "source": [
    "del train['Name']\n",
    "del test['Name']\n",
    "\n",
    "del train['Sibsp']\n",
    "del test['Sibsp']\n",
    "\n",
    "del train['Parch']\n",
    "del test['Parch']\n",
    "\n",
    "del train['Ticket']\n",
    "del test['Ticket']\n",
    "\n",
    "del train['Pclass']\n",
    "del test['Pclass']\n",
    "\n",
    "del train['Fare']\n",
    "del test['Fare']\n",
    "\n",
    "del train['Cabin']\n",
    "del test['Cabin']\n",
    "\n",
    "del train['Embarked']\n",
    "del test['Embarked']\n",
    "\n",
    "#data=(data_init.append(test_data)) #it is formed by appending the test and train data train.sample(5)"
   ]
  },
  {
   "cell_type": "code",
   "execution_count": null,
   "metadata": {},
   "outputs": [],
   "source": [
    "data_set = train[['Sex','Age']]\n",
    "one_hot_encoded_training_predictors = pd.get_dummies(data_set)\n",
    "X = one_hot_encoded_training_predictors\n",
    "y = train['Survived']\n",
    "one_hot_encoded_training_predictors.head(20)"
   ]
  },
  {
   "cell_type": "code",
   "execution_count": null,
   "metadata": {},
   "outputs": [],
   "source": [
    "logreg = LogisticRegression()\n",
    "logreg.fit(X, y)"
   ]
  },
  {
   "cell_type": "code",
   "execution_count": null,
   "metadata": {},
   "outputs": [],
   "source": [
    "#Age, female, male\n",
    "#me = [[22, 0, 1]]\n",
    "\n",
    "res = logreg.predict(me)\n",
    "\n",
    "if(res[0] == 0):\n",
    "    print('Sorry ' + x + '. You died!')\n",
    "else:\n",
    "    print('Congratulations' + x + ', you live!')\n"
   ]
  },
  {
   "cell_type": "code",
   "execution_count": null,
   "metadata": {},
   "outputs": [],
   "source": []
  }
 ],
 "metadata": {
  "kernelspec": {
   "display_name": "Python 3",
   "language": "python",
   "name": "python3"
  },
  "language_info": {
   "codemirror_mode": {
    "name": "ipython",
    "version": 3
   },
   "file_extension": ".py",
   "mimetype": "text/x-python",
   "name": "python",
   "nbconvert_exporter": "python",
   "pygments_lexer": "ipython3",
   "version": "3.6.5"
  }
 },
 "nbformat": 4,
 "nbformat_minor": 2
}
